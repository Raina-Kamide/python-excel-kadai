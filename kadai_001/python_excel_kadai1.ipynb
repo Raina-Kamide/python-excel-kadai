{
  "nbformat": 4,
  "nbformat_minor": 0,
  "metadata": {
    "colab": {
      "provenance": []
    },
    "kernelspec": {
      "name": "python3",
      "display_name": "Python 3"
    },
    "language_info": {
      "name": "python"
    }
  },
  "cells": [
    {
      "cell_type": "code",
      "execution_count": 8,
      "metadata": {
        "id": "ZkLFwFtZeIEM"
      },
      "outputs": [],
      "source": [
        "import openpyxl\n",
        "\n",
        "workbook = openpyxl.Workbook()\n",
        "\n",
        "\n",
        "sheet = workbook.active\n",
        "\n",
        "sheet[\"A2\"].value = \"請求書\"\n",
        "sheet[\"A4\"].value = \"株式会社ABC\"\n",
        "sheet[\"A5\"].value = \"〒101-0022 東京都千代田区神田練塀町300\"\n",
        "sheet[\"A6\"].value = \"TEL:03-1234-5678 FAX:03-1234-5678\"\n",
        "sheet[\"A7\"].value = \"担当者名:鈴木一郎 様\"\n",
        "\n",
        "import datetime\n",
        "now = datetime.datetime.now()\n",
        "date = datetime.datetime.strftime(now, \"%Y/%m/%d\")\n",
        "\n",
        "sheet[\"E4\"].value = \"No.\"\n",
        "sheet[\"F4\"].value = \"0001\"\n",
        "sheet[\"E5\"].value = \"日付\"\n",
        "sheet[\"F5\"].value = date\n",
        "\n",
        "\n",
        "header = [\"商品名\", \"数量\", \"単価\", \"金額\"]\n",
        "\n",
        "start_col = 1\n",
        "start_row = 9\n",
        "\n",
        "for i, h in enumerate(header, start=1):\n",
        "    sheet[start_col + start_row][i - 1].value = h\n",
        "\n",
        "\n",
        "data = [\n",
        "    [\"商品A\", 2, 10000, 20000],\n",
        "    [\"商品B\", 1, 15000, 15000]\n",
        "]\n",
        "\n",
        "start_row = 11\n",
        "start_col = 1\n",
        "\n",
        "for i, row in enumerate(data):\n",
        "    for j, value in enumerate(row):\n",
        "        sheet.cell(row=start_row + i, column=start_col + j).value =value\n",
        "\n",
        "\n",
        "sheet[\"A15\"].value = \"小計\"\n",
        "sheet[\"A16\"].value = \"消費税\"\n",
        "sheet[\"A17\"].value = \"合計\"\n",
        "\n",
        "tax = 10\n",
        "\n",
        "sheet[\"D13\"].value = sheet[\"D11\"].value + sheet[\"D12\"].value\n",
        "\n",
        "sheet[\"D15\"].value = sheet[\"D13\"].value\n",
        "sheet[\"D16\"].value = sheet[\"D13\"].value /100 * tax\n",
        "\n",
        "sale_tax = sheet[\"D16\"].value\n",
        "\n",
        "sheet[\"D17\"].value = sheet[\"D15\"].value + sale_tax\n",
        "\n",
        "sheet.insert_cols(1)\n",
        "\n",
        "date2 = datetime.datetime.strftime(now, \"%Y%m%d\")\n",
        "\n",
        "workbook.save(\"請求書_\" + date2 + \".xlsx\")"
      ]
    }
  ]
}