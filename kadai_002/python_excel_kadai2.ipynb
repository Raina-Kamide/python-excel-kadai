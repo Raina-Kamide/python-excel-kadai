{
  "nbformat": 4,
  "nbformat_minor": 0,
  "metadata": {
    "colab": {
      "provenance": []
    },
    "kernelspec": {
      "name": "python3",
      "display_name": "Python 3"
    },
    "language_info": {
      "name": "python"
    }
  },
  "cells": [
    {
      "cell_type": "code",
      "execution_count": 5,
      "metadata": {
        "id": "iLSuhsSsmbp6"
      },
      "outputs": [],
      "source": [
        "import pandas as pd\n",
        "\n",
        "# データを定義する\n",
        "df = pd.DataFrame(data ={\n",
        "    \"日付\": [\"2023-05-17\", \"2023-05-18\", \"2023-05-19\", \"2023-05-20\", \"2023-05-21\"],\n",
        "    \"社員名\": [\"山田\", \"佐藤\", \"鈴木\", \"田中\", \"高橋\"],\n",
        "    \"売上\": [100, 200, 150, 300, 250],\n",
        "    \"部門\": [\"メーカー\", \"代理店\", \"メーカー\", \"商社\", \"代理店\"]\n",
        "})\n",
        "\n",
        "# 売上の平均を求めて新しい列を作成\n",
        "df[\"平均売上\"] = df[\"売上\"].mean()\n",
        "\n",
        "df[\"平均売上\"] = pd.to_numeric(df[\"平均売上\"])\n",
        "\n",
        "average = df[\"平均売上\"].mean()\n",
        "\n",
        "\n",
        "#売上と平均売上を元に業績ランクを求める関数を定義\n",
        "def rank(level):\n",
        "  if level >= average + 50:\n",
        "    return  \"A\"\n",
        "  elif level >= average:\n",
        "    return  \"B\"\n",
        "  else:\n",
        "    return  \"C\"\n",
        "\n",
        "\n",
        "# 「業績ランク」列を作成し、関数を適用して値を設定\n",
        "df[\"業績ランク\"] = df[\"売上\"].apply(rank)\n",
        "\n",
        "\n",
        "\n",
        "# Excelファイルを作成する\n",
        "writer = pd.ExcelWriter(\"業績.xlsx\")\n",
        "df.to_excel(writer,sheet_name=\"Sheet1\", index = False)\n",
        "\n",
        "writer.close()"
      ]
    }
  ]
}